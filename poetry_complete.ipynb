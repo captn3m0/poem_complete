{
 "cells": [
  {
   "cell_type": "code",
   "execution_count": 57,
   "metadata": {},
   "outputs": [],
   "source": [
    "import pronouncing as p\n",
    "import nltk as n\n",
    "from typing import List"
   ]
  },
  {
   "cell_type": "code",
   "execution_count": 58,
   "metadata": {},
   "outputs": [
    {
     "data": {
      "text/plain": [
       "['S N AE1 P IH0 EH2 S T']"
      ]
     },
     "execution_count": 58,
     "metadata": {},
     "output_type": "execute_result"
    }
   ],
   "source": [
    "p.phones_for_word(\"snappiest\")"
   ]
  },
  {
   "cell_type": "code",
   "execution_count": 59,
   "metadata": {},
   "outputs": [],
   "source": [
    "# n.download()"
   ]
  },
  {
   "cell_type": "code",
   "execution_count": 60,
   "metadata": {},
   "outputs": [],
   "source": [
    "from nltk.corpus import gutenberg"
   ]
  },
  {
   "cell_type": "code",
   "execution_count": 61,
   "metadata": {},
   "outputs": [
    {
     "data": {
      "text/plain": [
       "['[', 'Emma', 'by', 'Jane', 'Austen', '1816', ']', ...]"
      ]
     },
     "execution_count": 61,
     "metadata": {},
     "output_type": "execute_result"
    }
   ],
   "source": [
    "gutenberg.words()"
   ]
  },
  {
   "cell_type": "code",
   "execution_count": 62,
   "metadata": {},
   "outputs": [
    {
     "data": {
      "text/plain": [
       "2621613"
      ]
     },
     "execution_count": 62,
     "metadata": {},
     "output_type": "execute_result"
    }
   ],
   "source": [
    "len(gutenberg.words())"
   ]
  },
  {
   "cell_type": "code",
   "execution_count": 63,
   "metadata": {},
   "outputs": [
    {
     "data": {
      "text/plain": [
       "['[', 'Emma', 'by', 'Jane', 'Austen', '1816', ']', 'VOLUME', 'I', 'CHAPTER']"
      ]
     },
     "execution_count": 63,
     "metadata": {},
     "output_type": "execute_result"
    }
   ],
   "source": [
    "gutenberg.words()[0:10]"
   ]
  },
  {
   "cell_type": "code",
   "execution_count": 64,
   "metadata": {},
   "outputs": [],
   "source": [
    "# stress_string = \"0101010101\"\n",
    "# markov model\n",
    "\n",
    "# need a function to generate possible next words\n",
    "def get_next_word(current_word, model):\n",
    "    \"\"\"\n",
    "        :type current_word: string\n",
    "        :type mode: markov_model\n",
    "        :rtype: List[string]\n",
    "    \"\"\"\n",
    "    words = model.get_next_word(current_word)\n",
    "    return words"
   ]
  },
  {
   "cell_type": "code",
   "execution_count": 65,
   "metadata": {},
   "outputs": [
    {
     "data": {
      "text/html": [
       "<style>.container { width:100% !important; }</style>"
      ],
      "text/plain": [
       "<IPython.core.display.HTML object>"
      ]
     },
     "metadata": {},
     "output_type": "display_data"
    }
   ],
   "source": [
    "from IPython.core.display import display, HTML\n",
    "display(HTML(\"<style>.container { width:100% !important; }</style>\"))\n",
    "# https://stackoverflow.com/questions/21971449/how-do-i-increase-the-cell-width-of-the-jupyter-ipython-notebook-in-my-browser"
   ]
  },
  {
   "cell_type": "code",
   "execution_count": 66,
   "metadata": {},
   "outputs": [
    {
     "data": {
      "text/plain": [
       "['0', '01', '010', '0101']"
      ]
     },
     "execution_count": 66,
     "metadata": {},
     "output_type": "execute_result"
    }
   ],
   "source": [
    "def make_one_zero_str(length: int, start_stress: int) -> str:\n",
    "    one_zero_str = \"\"\n",
    "    for index in range(start_stress, length + start_stress):\n",
    "        one_zero_str += str(index % 2)\n",
    "        \n",
    "    return one_zero_str\n",
    "\n",
    "def get_possible_stresses(current_stresses: str) -> List[str]:\n",
    "    \"\"\"\n",
    "    can assume that current_stresses is 0[1,2] repeated\n",
    "    eg: current_stresses = \"010\"\n",
    "    \"\"\"\n",
    "    iamb_pent_syllables = 10\n",
    "    \n",
    "    syllables = len(current_stresses)\n",
    "    remaining_stresses = iamb_pent_syllables - syllables\n",
    "    start_stress = remaining_stresses % 2  # if even, start with 0\n",
    "    possible_stress_lengths = list(range(1, remaining_stresses + 1))\n",
    "    return list(map(lambda length: make_one_zero_str(length, start_stress), possible_stress_lengths))\n",
    "    \n",
    "get_possible_stresses(\"010101\")\n",
    "    "
   ]
  },
  {
   "cell_type": "code",
   "execution_count": 67,
   "metadata": {},
   "outputs": [],
   "source": [
    "def word_matches_stress(word: str, stress_pattern_match: str) -> bool:\n",
    "    '''\n",
    "    eg: stress_pattern_match = \"010\"\n",
    "    '''\n",
    "    pronunciations = p.phones_for_word(word) # word can have more than 1 pronunciation. eg: lead of a pencil, someone lead someone\n",
    "    for pronunciation in pronunciations:\n",
    "        original_stress_pattern = p.stresses(pronunciation)\n",
    "        \n",
    "        # we consider both 1 and 2 as a stressed syllable\n",
    "        # our generated pattern match is only ever 1s and 0s\n",
    "        stress_pattern = original_stress_pattern.replace(\"2\", \"1\") \n",
    "        \n",
    "        # in case 1 pronunciation matches but the other one doesn't\n",
    "        if stress_pattern == stress_pattern_match:\n",
    "            return True\n",
    "        \n",
    "        return False\n",
    "        \n",
    "assert word_matches_stress(\"adam\", \"10\")\n",
    "assert word_matches_stress(\"janice\", \"10\")\n",
    "assert word_matches_stress(\"compare\", \"01\")\n",
    "assert word_matches_stress(\"snappiest\", \"101\") # snappiest's stresses are \"102\", so this should still match since we consider 2 as a stressed syllable"
   ]
  },
  {
   "cell_type": "code",
   "execution_count": 68,
   "metadata": {},
   "outputs": [],
   "source": [
    "def filter_possible_words(possible_stresses: List[str], words: List[str]) -> List[str]:\n",
    "    \"\"\"\n",
    "        :type possible_stresses List[stress_strings]\n",
    "        :type words List[strings]\n",
    "        :filtered_words List[strings]\n",
    "    \"\"\"\n",
    "    filtered_words = []\n",
    "    for stress_pattern in possible_stresses:\n",
    "        for word in words:\n",
    "            if word_matches_stress(word, stress_pattern):\n",
    "                filtered_words += word\n",
    "    return filtered_words"
   ]
  },
  {
   "cell_type": "code",
   "execution_count": 72,
   "metadata": {},
   "outputs": [
    {
     "data": {
      "text/plain": [
       "['handsome',\n",
       " 'clever',\n",
       " 'and',\n",
       " 'rich',\n",
       " 'with',\n",
       " 'a',\n",
       " 'comfortable',\n",
       " 'home',\n",
       " 'and',\n",
       " 'happy',\n",
       " 'disposition',\n",
       " 'seemed',\n",
       " 'to',\n",
       " 'unite',\n",
       " 'some',\n",
       " 'of',\n",
       " 'the',\n",
       " 'best',\n",
       " 'blessings',\n",
       " 'of']"
      ]
     },
     "execution_count": 72,
     "metadata": {},
     "output_type": "execute_result"
    }
   ],
   "source": [
    "words = gutenberg.words()\n",
    "filtered = list(filter(lambda word: word.isalpha(), words))\n",
    "filtered_lower = [ word.lower() for word in filtered ]\n",
    "filtered_lower[10:30]"
   ]
  },
  {
   "cell_type": "code",
   "execution_count": 71,
   "metadata": {},
   "outputs": [],
   "source": [
    "def get_possible_words(current_line:List[str], current_stress_str: str, ngram) -> List[str]:\n",
    "    possible_stresses = get_possible_stresses(current_stress_str)\n",
    "    candidate_words = ngram.get_words(current_line[-1])\n",
    "    possible_words = filter_possible_words(possible_stresses, candidate_words)\n",
    "    return possible_words"
   ]
  },
  {
   "cell_type": "code",
   "execution_count": 73,
   "metadata": {},
   "outputs": [],
   "source": [
    "from collections import defaultdict\n",
    "ngram_dict = defaultdict(list)\n",
    "ngrams = zip(filtered_lower, filtered_lower[1:])\n",
    "for w1, w2 in ngrams:\n",
    "    ngram_dict[w1].append(w2)"
   ]
  },
  {
   "cell_type": "code",
   "execution_count": 75,
   "metadata": {},
   "outputs": [
    {
     "data": {
      "text/plain": [
       "866"
      ]
     },
     "execution_count": 75,
     "metadata": {},
     "output_type": "execute_result"
    }
   ],
   "source": [
    "len(ngram_dict['emma'])"
   ]
  },
  {
   "cell_type": "code",
   "execution_count": 76,
   "metadata": {},
   "outputs": [
    {
     "data": {
      "text/plain": [
       "[('s', 79),\n",
       " ('was', 66),\n",
       " ('could', 61),\n",
       " ('had', 37),\n",
       " ('i', 32),\n",
       " ('and', 26),\n",
       " ('felt', 19),\n",
       " ('as', 14),\n",
       " ('said', 13),\n",
       " ('found', 12),\n",
       " ('in', 12),\n",
       " ('to', 12),\n",
       " ('but', 11),\n",
       " ('you', 11),\n",
       " ('would', 11),\n",
       " ('thought', 10),\n",
       " ('saw', 9),\n",
       " ('that', 8),\n",
       " ('she', 8),\n",
       " ('it', 8),\n",
       " ('knew', 7),\n",
       " ('with', 7),\n",
       " ('he', 7),\n",
       " ('began', 6),\n",
       " ('smiling', 6),\n",
       " ('a', 6),\n",
       " ('did', 6),\n",
       " ('the', 6),\n",
       " ('woodhouse', 5),\n",
       " ('will', 5),\n",
       " ('laughing', 5),\n",
       " ('were', 5),\n",
       " ('should', 4),\n",
       " ('watched', 4),\n",
       " ('must', 4),\n",
       " ('has', 4),\n",
       " ('wished', 4),\n",
       " ('continued', 4),\n",
       " ('who', 4),\n",
       " ('your', 4),\n",
       " ('made', 4),\n",
       " ('there', 4),\n",
       " ('my', 4),\n",
       " ('heard', 4),\n",
       " ('smiled', 3),\n",
       " ('herself', 3),\n",
       " ('for', 3),\n",
       " ('at', 3),\n",
       " ('this', 3),\n",
       " ('laughed', 3),\n",
       " ('spoke', 3),\n",
       " ('emma', 3),\n",
       " ('only', 3),\n",
       " ('time', 3),\n",
       " ('soon', 3),\n",
       " ('if', 3),\n",
       " ('listened', 3),\n",
       " ('on', 3),\n",
       " ('guessed', 3),\n",
       " ('looked', 3),\n",
       " ('by', 2),\n",
       " ('first', 2),\n",
       " ('turned', 2),\n",
       " ('never', 2),\n",
       " ('well', 2),\n",
       " ('mr', 2),\n",
       " ('is', 2),\n",
       " ('rather', 2),\n",
       " ('not', 2),\n",
       " ('remained', 2),\n",
       " ('because', 2),\n",
       " ('having', 2),\n",
       " ('too', 2),\n",
       " ('let', 2),\n",
       " ('about', 2),\n",
       " ('sat', 2),\n",
       " ('might', 2),\n",
       " ('do', 2),\n",
       " ('what', 2),\n",
       " ('hoped', 2),\n",
       " ('then', 2),\n",
       " ('which', 2),\n",
       " ('nothing', 2),\n",
       " ('consider', 2),\n",
       " ('wondered', 2),\n",
       " ('recollected', 2),\n",
       " ('again', 2),\n",
       " ('still', 2),\n",
       " ('perceived', 2),\n",
       " ('grew', 2),\n",
       " ('doubted', 2),\n",
       " ('returned', 2),\n",
       " ('read', 2),\n",
       " ('most', 2),\n",
       " ('some', 2),\n",
       " ('very', 2),\n",
       " ('seriously', 2),\n",
       " ('when', 2),\n",
       " ('came', 2),\n",
       " ('how', 2),\n",
       " ('between', 1),\n",
       " ('doing', 1),\n",
       " ('spared', 1),\n",
       " ('playfully', 1),\n",
       " ('knows', 1),\n",
       " ('willing', 1),\n",
       " ('bears', 1),\n",
       " ('particularly', 1),\n",
       " ('help', 1),\n",
       " ('allowed', 1),\n",
       " ('lost', 1),\n",
       " ('encouraged', 1),\n",
       " ('imagined', 1),\n",
       " ('good', 1),\n",
       " ('wants', 1),\n",
       " ('such', 1),\n",
       " ('imagine', 1),\n",
       " ('altogether', 1),\n",
       " ('always', 1),\n",
       " ('errs', 1),\n",
       " ('shall', 1),\n",
       " ('accountable', 1),\n",
       " ('isabella', 1),\n",
       " ('though', 1),\n",
       " ('exclaimed', 1),\n",
       " ('drew', 1),\n",
       " ('persevered', 1),\n",
       " ('waited', 1),\n",
       " ('assured', 1),\n",
       " ('believed', 1),\n",
       " ('judged', 1),\n",
       " ('till', 1),\n",
       " ('robert', 1),\n",
       " ('assisted', 1),\n",
       " ('than', 1),\n",
       " ('thanked', 1),\n",
       " ('smilingly', 1),\n",
       " ('experienced', 1),\n",
       " ('passed', 1),\n",
       " ('quietly', 1),\n",
       " ('grow', 1),\n",
       " ('suppose', 1),\n",
       " ('feeling', 1),\n",
       " ('long', 1),\n",
       " ('called', 1),\n",
       " ('liked', 1),\n",
       " ('replied', 1),\n",
       " ('tried', 1),\n",
       " ('settled', 1),\n",
       " ('got', 1),\n",
       " ('immediately', 1),\n",
       " ('glancing', 1),\n",
       " ('left', 1),\n",
       " ('procure', 1),\n",
       " ('true', 1),\n",
       " ('thinks', 1),\n",
       " ('unless', 1),\n",
       " ('alone', 1),\n",
       " ('wish', 1),\n",
       " ('learned', 1),\n",
       " ('observed', 1),\n",
       " ('collected', 1),\n",
       " ('highly', 1),\n",
       " ('want', 1),\n",
       " ('late', 1),\n",
       " ('dine', 1),\n",
       " ('comes', 1),\n",
       " ('we', 1),\n",
       " ('thus', 1),\n",
       " ('her', 1),\n",
       " ('suspected', 1),\n",
       " ('divined', 1),\n",
       " ('restrained', 1),\n",
       " ('dear', 1),\n",
       " ('best', 1),\n",
       " ('went', 1),\n",
       " ('caught', 1),\n",
       " ('joined', 1),\n",
       " ('took', 1),\n",
       " ('demurred', 1),\n",
       " ('up', 1),\n",
       " ('nor', 1),\n",
       " ('its', 1),\n",
       " ('being', 1),\n",
       " ('disappointed', 1),\n",
       " ('attacked', 1),\n",
       " ('feel', 1),\n",
       " ('finding', 1),\n",
       " ('offended', 1),\n",
       " ('little', 1),\n",
       " ('beginning', 1),\n",
       " ('triumphantly', 1),\n",
       " ('apprehended', 1),\n",
       " ('john', 1),\n",
       " ('both', 1),\n",
       " ('longed', 1),\n",
       " ('trusted', 1),\n",
       " ('why', 1),\n",
       " ('set', 1),\n",
       " ('whenever', 1),\n",
       " ('considerable', 1),\n",
       " ('acquainted', 1),\n",
       " ('engaging', 1),\n",
       " ('putting', 1),\n",
       " ('recovering', 1),\n",
       " ('jane', 1),\n",
       " ('opposing', 1),\n",
       " ('denied', 1),\n",
       " ('received', 1),\n",
       " ('fortunate', 1),\n",
       " ('walked', 1),\n",
       " ('glad', 1),\n",
       " ('they', 1),\n",
       " ('communicated', 1),\n",
       " ('afterwards', 1),\n",
       " ('something', 1),\n",
       " ('standing', 1),\n",
       " ('distinctly', 1),\n",
       " ('cannot', 1),\n",
       " ('even', 1),\n",
       " ('scarcely', 1),\n",
       " ('pondered', 1),\n",
       " ('now', 1),\n",
       " ('dryly', 1),\n",
       " ('feelingly', 1),\n",
       " ('unable', 1),\n",
       " ('after', 1),\n",
       " ('collecting', 1),\n",
       " ('circumstances', 1),\n",
       " ('sighing', 1),\n",
       " ('resolved', 1),\n",
       " ('turning', 1),\n",
       " ('understood', 1),\n",
       " ('cried', 1),\n",
       " ('trying', 1),\n",
       " ('quite', 1),\n",
       " ('tell', 1),\n",
       " ('differing', 1),\n",
       " ('take', 1),\n",
       " ('does', 1),\n",
       " ('agreed', 1),\n",
       " ('while', 1),\n",
       " ('fancied', 1),\n",
       " ('proposed', 1),\n",
       " ('whispered', 1),\n",
       " ('amused', 1),\n",
       " ('warmly', 1),\n",
       " ('grieved', 1),\n",
       " ('accepted', 1),\n",
       " ('oh', 1),\n",
       " ('hung', 1),\n",
       " ('gave', 1),\n",
       " ('dared', 1),\n",
       " ('shaking', 1),\n",
       " ('blushed', 1),\n",
       " ('archly', 1),\n",
       " ('became', 1),\n",
       " ('admitted', 1),\n",
       " ('attended', 1),\n",
       " ('towards', 1)]"
      ]
     },
     "execution_count": 76,
     "metadata": {},
     "output_type": "execute_result"
    }
   ],
   "source": [
    "from collections import Counter\n",
    "Counter(ngram_dict['emma']).most_common()"
   ]
  },
  {
   "cell_type": "code",
   "execution_count": null,
   "metadata": {},
   "outputs": [],
   "source": []
  }
 ],
 "metadata": {
  "kernelspec": {
   "display_name": "Python 3",
   "language": "python",
   "name": "python3"
  },
  "language_info": {
   "codemirror_mode": {
    "name": "ipython",
    "version": 3
   },
   "file_extension": ".py",
   "mimetype": "text/x-python",
   "name": "python",
   "nbconvert_exporter": "python",
   "pygments_lexer": "ipython3",
   "version": "3.6.4"
  }
 },
 "nbformat": 4,
 "nbformat_minor": 2
}
