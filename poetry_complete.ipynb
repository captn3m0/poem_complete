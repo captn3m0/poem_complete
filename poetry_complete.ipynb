{
 "cells": [
  {
   "cell_type": "code",
   "execution_count": 9,
   "metadata": {},
   "outputs": [],
   "source": [
    "import pronouncing as p\n",
    "import nltk as n\n",
    "from typing import List"
   ]
  },
  {
   "cell_type": "code",
   "execution_count": 2,
   "metadata": {},
   "outputs": [
    {
     "data": {
      "text/plain": [
       "['S N AE1 P IH0 EH2 S T']"
      ]
     },
     "execution_count": 2,
     "metadata": {},
     "output_type": "execute_result"
    }
   ],
   "source": [
    "p.phones_for_word(\"snappiest\")"
   ]
  },
  {
   "cell_type": "code",
   "execution_count": 4,
   "metadata": {},
   "outputs": [],
   "source": [
    "# n.download()"
   ]
  },
  {
   "cell_type": "code",
   "execution_count": 5,
   "metadata": {},
   "outputs": [],
   "source": [
    "from nltk.corpus import gutenberg"
   ]
  },
  {
   "cell_type": "code",
   "execution_count": 6,
   "metadata": {},
   "outputs": [
    {
     "data": {
      "text/plain": [
       "['[', 'Emma', 'by', 'Jane', 'Austen', '1816', ']', ...]"
      ]
     },
     "execution_count": 6,
     "metadata": {},
     "output_type": "execute_result"
    }
   ],
   "source": [
    "gutenberg.words()"
   ]
  },
  {
   "cell_type": "code",
   "execution_count": 7,
   "metadata": {},
   "outputs": [
    {
     "data": {
      "text/plain": [
       "2621613"
      ]
     },
     "execution_count": 7,
     "metadata": {},
     "output_type": "execute_result"
    }
   ],
   "source": [
    "len(gutenberg.words())"
   ]
  },
  {
   "cell_type": "code",
   "execution_count": 8,
   "metadata": {},
   "outputs": [
    {
     "data": {
      "text/plain": [
       "['[', 'Emma', 'by', 'Jane', 'Austen', '1816', ']', 'VOLUME', 'I', 'CHAPTER']"
      ]
     },
     "execution_count": 8,
     "metadata": {},
     "output_type": "execute_result"
    }
   ],
   "source": [
    "gutenberg.words()[0:10]"
   ]
  },
  {
   "cell_type": "code",
   "execution_count": 22,
   "metadata": {},
   "outputs": [],
   "source": [
    "# stress_string = \"0101010101\"\n",
    "# markov model\n",
    "\n",
    "# need a function to generate possible next words\n",
    "def get_next_word(current_word, model):\n",
    "    \"\"\"\n",
    "        :type current_word: string\n",
    "        :type mode: markov_model\n",
    "        :rtype: List[string]\n",
    "    \"\"\"\n",
    "    words = model.get_next_word(current_word)\n",
    "    return words"
   ]
  },
  {
   "cell_type": "code",
   "execution_count": null,
   "metadata": {},
   "outputs": [],
   "source": []
  },
  {
   "cell_type": "code",
   "execution_count": 38,
   "metadata": {},
   "outputs": [
    {
     "data": {
      "text/plain": [
       "['0', '01', '010', '0101']"
      ]
     },
     "execution_count": 38,
     "metadata": {},
     "output_type": "execute_result"
    }
   ],
   "source": [
    "def make_one_zero_str(length: int, start_stress: int) -> List[str]:\n",
    "    one_zero_str = \"\"\n",
    "    for index in range(start_stress, length + start_stress):\n",
    "        one_zero_str += str(index % 2)\n",
    "        \n",
    "    return one_zero_str\n",
    "\n",
    "def get_possible_stresses(current_stresses: str) -> List[str]:\n",
    "    \"\"\"\n",
    "    can assume that current_stresses is 0[1,2] repeated\n",
    "    \"\"\"\n",
    "    syllables = len(current_stresses)\n",
    "    remaining_stresses = 10 - syllables\n",
    "    start_stress = remaining_stresses % 2  # if even, start with 0\n",
    "    possible_stress_lengths = list(range(1, remaining_stresses + 1))\n",
    "    return list(map(lambda length: make_one_zero_str(length, start_stress), possible_stress_lengths))\n",
    "    \n",
    "    \n",
    "    \n",
    "get_possible_stresses(\"010101\")\n",
    "    "
   ]
  },
  {
   "cell_type": "code",
   "execution_count": 39,
   "metadata": {},
   "outputs": [],
   "source": [
    "def word_matches_stress(word: str, stress_pattern_match: str) -> bool:\n",
    "    pronunciations = p.phones_for_word(word)\n",
    "    for pronunciation in pronunciations:\n",
    "        stress_pattern = p.stresses(pronunciation)\n",
    "        if compare_stress_pattern(stress_pattern, stress_pattern_match):\n",
    "            return True\n",
    "    return False\n",
    "        \n",
    "    \n",
    "def compare_stress_pattern(stress_pattern_1: str, stress_pattern_2: str) -> bool:\n",
    "    if len(stress_pattern_1) != len(stress_pattern_2):\n",
    "        return False\n",
    "    else:\n",
    "        return all(int(x) + int(y) == 0 or int(x) + int(y) >=2 for (x, y) in zip(stress_pattern_1, stress_pattern_2))\n",
    "        \n",
    "        \n",
    "assert compare_stress_pattern(\"102\", \"201\")\n",
    "assert compare_stress_pattern(\"\", \"\")\n",
    "assert compare_stress_pattern(\"10201010\", \"20101020\")\n",
    "assert word_matches_stress(\"adam\", \"10\")\n",
    "assert word_matches_stress(\"janice\", \"20\")\n",
    "assert word_matches_stress(\"compare\", \"01\")"
   ]
  },
  {
   "cell_type": "code",
   "execution_count": 40,
   "metadata": {},
   "outputs": [],
   "source": [
    "def filter_possible_stresses(possible_stresses: List[str], words: List[str]) -> List[str]:\n",
    "    \"\"\"\n",
    "        :type possible_stresses List[stress_strings]\n",
    "        :type words List[strings]\n",
    "        :filtered_words List[strings]\n",
    "    \"\"\"\n",
    "    filtered_words = []\n",
    "    for stress_pattern in possible_stresses:\n",
    "        for word in words:\n",
    "            if word_matches_stress(word, stress_pattern):\n",
    "                filtered_words += word\n",
    "    return filtered_words"
   ]
  },
  {
   "cell_type": "code",
   "execution_count": null,
   "metadata": {},
   "outputs": [],
   "source": []
  }
 ],
 "metadata": {
  "kernelspec": {
   "display_name": "Python 3",
   "language": "python",
   "name": "python3"
  },
  "language_info": {
   "codemirror_mode": {
    "name": "ipython",
    "version": 3
   },
   "file_extension": ".py",
   "mimetype": "text/x-python",
   "name": "python",
   "nbconvert_exporter": "python",
   "pygments_lexer": "ipython3",
   "version": "3.6.1"
  }
 },
 "nbformat": 4,
 "nbformat_minor": 2
}
